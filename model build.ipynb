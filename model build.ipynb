{
 "cells": [
  {
   "cell_type": "code",
   "execution_count": 12,
   "id": "de8a2251",
   "metadata": {
    "execution": {
     "iopub.execute_input": "2023-12-19T19:28:41.191393Z",
     "iopub.status.busy": "2023-12-19T19:28:41.191041Z",
     "iopub.status.idle": "2023-12-19T19:30:00.075331Z",
     "shell.execute_reply": "2023-12-19T19:30:00.074473Z"
    },
    "papermill": {
     "duration": 78.906836,
     "end_time": "2023-12-19T19:30:00.077829",
     "exception": false,
     "start_time": "2023-12-19T19:28:41.170993",
     "status": "completed"
    },
    "tags": []
   },
   "outputs": [
    {
     "name": "stdout",
     "output_type": "stream",
     "text": [
      "Original image shape: (612, 128, 128, 3)\n",
      "Original mask shape: (612, 128, 128, 1)\n"
     ]
    }
   ],
   "source": [
    "import os\n",
    "import random\n",
    "import numpy as np\n",
    "import tensorflow as tf\n",
    "from tensorflow import keras\n",
    "from tensorflow.keras import layers\n",
    "from PIL import Image\n",
    "from sklearn.model_selection import train_test_split\n",
    "\n",
    "# Set the directories\n",
    "images_dir = 'PNG/Original'\n",
    "masks_dir = 'PNG/Ground Truth'\n",
    "\n",
    "# Get the list of image file names\n",
    "all_image_file_names = sorted(os.listdir(images_dir))\n",
    "\n",
    "# Randomly select 9000 images\n",
    "selected_image_file_names = random.sample(all_image_file_names, 400)\n",
    "\n",
    "# Load selected images and masks with resizing\n",
    "target_size = (128, 128)\n",
    "images = [np.array(Image.open(os.path.join(images_dir, fname)).resize(target_size)) for fname in all_image_file_names]\n",
    "\n",
    "# Adjust file extension for masks\n",
    "mask_file_names = [fname.replace('.jpg', '_mask.png') for fname in all_image_file_names]\n",
    "masks = [np.array(Image.open(os.path.join(masks_dir, fname)).resize(target_size)) for fname in mask_file_names]\n",
    "\n",
    "# Convert the lists to numpy arrays\n",
    "images = np.array(images)\n",
    "masks = np.array(masks)\n",
    "\n",
    "# Normalize images to [0, 1]\n",
    "images = images / 255.0\n",
    "\n",
    "if masks.shape[-1] == 3:\n",
    "    masks = np.mean(masks, axis=-1, keepdims=True)\n",
    "\n",
    "# Print shapes for debugging\n",
    "print(\"Original image shape:\", images.shape)\n",
    "print(\"Original mask shape:\", masks.shape)\n",
    "\n",
    "masks = masks.reshape((masks.shape[0], masks.shape[1], masks.shape[2], 1))\n"
   ]
  },
  {
   "cell_type": "code",
   "execution_count": 4,
   "id": "c269322e",
   "metadata": {
    "execution": {
     "iopub.execute_input": "2023-12-19T19:30:00.118067Z",
     "iopub.status.busy": "2023-12-19T19:30:00.117351Z",
     "iopub.status.idle": "2023-12-19T19:30:02.934532Z",
     "shell.execute_reply": "2023-12-19T19:30:02.933734Z"
    },
    "papermill": {
     "duration": 2.839269,
     "end_time": "2023-12-19T19:30:02.936927",
     "exception": false,
     "start_time": "2023-12-19T19:30:00.097658",
     "status": "completed"
    },
    "tags": []
   },
   "outputs": [],
   "source": [
    "# Split the data into training, validation, and test sets\n",
    "# 70% training, 20% validation, 10% test\n",
    "x_train, x_temp, y_train, y_temp = train_test_split(images, masks, test_size=0.3, random_state=42)\n",
    "x_valid, x_test, y_valid, y_test = train_test_split(x_temp, y_temp, test_size=1/3, random_state=42)"
   ]
  },
  {
   "cell_type": "code",
   "execution_count": 5,
   "id": "a49dc2c4",
   "metadata": {
    "execution": {
     "iopub.execute_input": "2023-12-19T19:30:03.341757Z",
     "iopub.status.busy": "2023-12-19T19:30:03.341440Z",
     "iopub.status.idle": "2023-12-19T19:30:03.347127Z",
     "shell.execute_reply": "2023-12-19T19:30:03.346312Z"
    },
    "papermill": {
     "duration": 0.029405,
     "end_time": "2023-12-19T19:30:03.349044",
     "exception": false,
     "start_time": "2023-12-19T19:30:03.319639",
     "status": "completed"
    },
    "tags": []
   },
   "outputs": [
    {
     "data": {
      "text/plain": [
       "((428, 128, 128, 1), (428, 128, 128, 3))"
      ]
     },
     "execution_count": 5,
     "metadata": {},
     "output_type": "execute_result"
    }
   ],
   "source": [
    "y_train.shape, x_train.shape"
   ]
  },
  {
   "cell_type": "code",
   "execution_count": 6,
   "id": "89cdd2ac",
   "metadata": {
    "execution": {
     "iopub.execute_input": "2023-12-19T19:30:03.391075Z",
     "iopub.status.busy": "2023-12-19T19:30:03.390602Z",
     "iopub.status.idle": "2023-12-19T19:30:08.978749Z",
     "shell.execute_reply": "2023-12-19T19:30:08.977820Z"
    },
    "papermill": {
     "duration": 5.61153,
     "end_time": "2023-12-19T19:30:08.980873",
     "exception": false,
     "start_time": "2023-12-19T19:30:03.369343",
     "status": "completed"
    },
    "tags": []
   },
   "outputs": [
    {
     "name": "stdout",
     "output_type": "stream",
     "text": [
      "Model: \"sequential\"\n",
      "_________________________________________________________________\n",
      " Layer (type)                Output Shape              Param #   \n",
      "=================================================================\n",
      " conv2d (Conv2D)             (None, 128, 128, 64)      1792      \n",
      "                                                                 \n",
      " batch_normalization (Batch  (None, 128, 128, 64)      256       \n",
      " Normalization)                                                  \n",
      "                                                                 \n",
      " conv2d_1 (Conv2D)           (None, 128, 128, 64)      36928     \n",
      "                                                                 \n",
      " batch_normalization_1 (Bat  (None, 128, 128, 64)      256       \n",
      " chNormalization)                                                \n",
      "                                                                 \n",
      " max_pooling2d (MaxPooling2  (None, 64, 64, 64)        0         \n",
      " D)                                                              \n",
      "                                                                 \n",
      " conv2d_2 (Conv2D)           (None, 64, 64, 128)       73856     \n",
      "                                                                 \n",
      " batch_normalization_2 (Bat  (None, 64, 64, 128)       512       \n",
      " chNormalization)                                                \n",
      "                                                                 \n",
      " conv2d_3 (Conv2D)           (None, 64, 64, 128)       147584    \n",
      "                                                                 \n",
      " batch_normalization_3 (Bat  (None, 64, 64, 128)       512       \n",
      " chNormalization)                                                \n",
      "                                                                 \n",
      " max_pooling2d_1 (MaxPoolin  (None, 32, 32, 128)       0         \n",
      " g2D)                                                            \n",
      "                                                                 \n",
      " conv2d_4 (Conv2D)           (None, 32, 32, 256)       295168    \n",
      "                                                                 \n",
      " batch_normalization_4 (Bat  (None, 32, 32, 256)       1024      \n",
      " chNormalization)                                                \n",
      "                                                                 \n",
      " conv2d_5 (Conv2D)           (None, 32, 32, 256)       590080    \n",
      "                                                                 \n",
      " batch_normalization_5 (Bat  (None, 32, 32, 256)       1024      \n",
      " chNormalization)                                                \n",
      "                                                                 \n",
      " max_pooling2d_2 (MaxPoolin  (None, 16, 16, 256)       0         \n",
      " g2D)                                                            \n",
      "                                                                 \n",
      " up_sampling2d (UpSampling2  (None, 32, 32, 256)       0         \n",
      " D)                                                              \n",
      "                                                                 \n",
      " conv2d_6 (Conv2D)           (None, 32, 32, 128)       295040    \n",
      "                                                                 \n",
      " batch_normalization_6 (Bat  (None, 32, 32, 128)       512       \n",
      " chNormalization)                                                \n",
      "                                                                 \n",
      " up_sampling2d_1 (UpSamplin  (None, 64, 64, 128)       0         \n",
      " g2D)                                                            \n",
      "                                                                 \n",
      " conv2d_7 (Conv2D)           (None, 64, 64, 64)        73792     \n",
      "                                                                 \n",
      " batch_normalization_7 (Bat  (None, 64, 64, 64)        256       \n",
      " chNormalization)                                                \n",
      "                                                                 \n",
      " up_sampling2d_2 (UpSamplin  (None, 128, 128, 64)      0         \n",
      " g2D)                                                            \n",
      "                                                                 \n",
      " conv2d_8 (Conv2D)           (None, 128, 128, 32)      18464     \n",
      "                                                                 \n",
      " batch_normalization_8 (Bat  (None, 128, 128, 32)      128       \n",
      " chNormalization)                                                \n",
      "                                                                 \n",
      " conv2d_9 (Conv2D)           (None, 128, 128, 1)       33        \n",
      "                                                                 \n",
      " cropping2d (Cropping2D)     (None, 128, 128, 1)       0         \n",
      "                                                                 \n",
      "=================================================================\n",
      "Total params: 1537217 (5.86 MB)\n",
      "Trainable params: 1534977 (5.86 MB)\n",
      "Non-trainable params: 2240 (8.75 KB)\n",
      "_________________________________________________________________\n",
      "WARNING:tensorflow:Compiled the loaded model, but the compiled metrics have yet to be built. `model.compile_metrics` will be empty until you train or evaluate the model.\n"
     ]
    },
    {
     "name": "stderr",
     "output_type": "stream",
     "text": [
      "C:\\Users\\JAGAN\\anaconda3\\Lib\\site-packages\\keras\\src\\engine\\training.py:3000: UserWarning: You are saving your model as an HDF5 file via `model.save()`. This file format is considered legacy. We recommend using instead the native Keras format, e.g. `model.save('my_model.keras')`.\n",
      "  saving_api.save_model(\n"
     ]
    }
   ],
   "source": [
    "from tensorflow import keras\n",
    "from tensorflow.keras import layers\n",
    "\n",
    "def create_fcn_model(input_shape=(128, 128, 3), target_shape=(128, 128, 1)):\n",
    "    model = keras.Sequential()\n",
    "\n",
    "    # Encoder\n",
    "    model.add(layers.Conv2D(64, (3, 3), activation='relu', padding='same', input_shape=input_shape))\n",
    "    model.add(layers.BatchNormalization())\n",
    "    model.add(layers.Conv2D(64, (3, 3), activation='relu', padding='same'))\n",
    "    model.add(layers.BatchNormalization())\n",
    "    model.add(layers.MaxPooling2D((2, 2)))\n",
    "\n",
    "    model.add(layers.Conv2D(128, (3, 3), activation='relu', padding='same'))\n",
    "    model.add(layers.BatchNormalization())\n",
    "    model.add(layers.Conv2D(128, (3, 3), activation='relu', padding='same'))\n",
    "    model.add(layers.BatchNormalization())\n",
    "    model.add(layers.MaxPooling2D((2, 2)))\n",
    "\n",
    "    model.add(layers.Conv2D(256, (3, 3), activation='relu', padding='same'))\n",
    "    model.add(layers.BatchNormalization())\n",
    "    model.add(layers.Conv2D(256, (3, 3), activation='relu', padding='same'))\n",
    "    model.add(layers.BatchNormalization())\n",
    "    model.add(layers.MaxPooling2D((2, 2)))\n",
    "\n",
    "    # Decoder with Skip Connections\n",
    "    model.add(layers.UpSampling2D((2, 2)))\n",
    "    model.add(layers.Conv2D(128, (3, 3), activation='relu', padding='same'))\n",
    "    model.add(layers.BatchNormalization())\n",
    "\n",
    "    model.add(layers.UpSampling2D((2, 2)))\n",
    "    model.add(layers.Conv2D(64, (3, 3), activation='relu', padding='same'))\n",
    "    model.add(layers.BatchNormalization())\n",
    "\n",
    "    model.add(layers.UpSampling2D((2, 2)))\n",
    "    model.add(layers.Conv2D(32, (3, 3), activation='relu', padding='same'))\n",
    "    model.add(layers.BatchNormalization())\n",
    "\n",
    "    # Output layer\n",
    "    model.add(layers.Conv2D(1, (1, 1), activation='sigmoid'))  # Assuming binary classification\n",
    "\n",
    "    # Crop to match the target shape\n",
    "    crop_height = (model.output_shape[1] - target_shape[0]) // 2\n",
    "    crop_width = (model.output_shape[2] - target_shape[1]) // 2\n",
    "    model.add(layers.Cropping2D(cropping=((crop_height, crop_height), (crop_width, crop_width))))\n",
    "\n",
    "    return model\n",
    "# Create the FCN model\n",
    "model = create_fcn_model()\n",
    "\n",
    "# Display the model summary\n",
    "model.summary()\n",
    "model.save('fcn_model.h5')\n"
   ]
  },
  {
   "cell_type": "code",
   "execution_count": 7,
   "id": "e112706e",
   "metadata": {
    "execution": {
     "iopub.execute_input": "2023-12-19T19:30:09.036365Z",
     "iopub.status.busy": "2023-12-19T19:30:09.035604Z",
     "iopub.status.idle": "2023-12-19T19:30:09.041254Z",
     "shell.execute_reply": "2023-12-19T19:30:09.040339Z"
    },
    "papermill": {
     "duration": 0.035205,
     "end_time": "2023-12-19T19:30:09.043111",
     "exception": false,
     "start_time": "2023-12-19T19:30:09.007906",
     "status": "completed"
    },
    "tags": []
   },
   "outputs": [],
   "source": [
    "import tensorflow as tf\n",
    "\n",
    "def dice_coefficient(y_true, y_pred):\n",
    "    smooth = 1.0  # Smoothing factor to avoid division by zero\n",
    "    intersection = tf.reduce_sum(y_true * y_pred)\n",
    "    union = tf.reduce_sum(y_true) + tf.reduce_sum(y_pred)\n",
    "    dice = (2.0 * intersection + smooth) / (union + smooth)\n",
    "    return dice\n",
    "\n",
    "\n"
   ]
  },
  {
   "cell_type": "code",
   "execution_count": 8,
   "id": "8fdf6f13",
   "metadata": {
    "execution": {
     "iopub.execute_input": "2023-12-19T19:30:09.096916Z",
     "iopub.status.busy": "2023-12-19T19:30:09.096615Z",
     "iopub.status.idle": "2023-12-19T19:30:09.107976Z",
     "shell.execute_reply": "2023-12-19T19:30:09.107119Z"
    },
    "papermill": {
     "duration": 0.040443,
     "end_time": "2023-12-19T19:30:09.109957",
     "exception": false,
     "start_time": "2023-12-19T19:30:09.069514",
     "status": "completed"
    },
    "tags": []
   },
   "outputs": [],
   "source": [
    "from tensorflow.keras.callbacks import ReduceLROnPlateau\n",
    "\n",
    "checkpoint = tf.keras.callbacks.ModelCheckpoint(\"fcn_model.h5\", monitor='val_loss', verbose=1, patience = 3,save_best_only=True,\n",
    "                                                save_weights_only=True, mode='auto')\n",
    "reduce_lr = ReduceLROnPlateau(monitor='val_loss', factor=0.2, patience=5, min_lr=1e-6)\n",
    "tensorboard_callback = tf.keras.callbacks.TensorBoard(log_dir='./logs', histogram_freq=1)"
   ]
  },
  {
   "cell_type": "code",
   "execution_count": 9,
   "id": "cbe37a46",
   "metadata": {
    "execution": {
     "iopub.execute_input": "2023-12-19T19:30:09.165721Z",
     "iopub.status.busy": "2023-12-19T19:30:09.164918Z",
     "iopub.status.idle": "2023-12-19T19:30:09.183382Z",
     "shell.execute_reply": "2023-12-19T19:30:09.182672Z"
    },
    "papermill": {
     "duration": 0.048632,
     "end_time": "2023-12-19T19:30:09.185409",
     "exception": false,
     "start_time": "2023-12-19T19:30:09.136777",
     "status": "completed"
    },
    "tags": []
   },
   "outputs": [
    {
     "name": "stderr",
     "output_type": "stream",
     "text": [
      "WARNING:absl:`lr` is deprecated in Keras optimizer, please use `learning_rate` or use the legacy optimizer, e.g.,tf.keras.optimizers.legacy.Adam.\n"
     ]
    }
   ],
   "source": [
    "from tensorflow.keras.optimizers import Adam\n",
    "# Compile the model [0.001,0001, 6e-e]\n",
    "model.compile(optimizer=Adam(lr=.001),loss='binary_crossentropy',\n",
    "              metrics=[dice_coefficient,\"accuracy\"])"
   ]
  },
  {
   "cell_type": "code",
   "execution_count": 10,
   "id": "3dddf532",
   "metadata": {
    "execution": {
     "iopub.execute_input": "2023-12-19T19:30:09.242118Z",
     "iopub.status.busy": "2023-12-19T19:30:09.241136Z",
     "iopub.status.idle": "2023-12-19T19:32:40.503189Z",
     "shell.execute_reply": "2023-12-19T19:32:40.502129Z"
    },
    "papermill": {
     "duration": 151.293719,
     "end_time": "2023-12-19T19:32:40.506121",
     "exception": false,
     "start_time": "2023-12-19T19:30:09.212402",
     "status": "completed"
    },
    "tags": []
   },
   "outputs": [
    {
     "name": "stdout",
     "output_type": "stream",
     "text": [
      "Epoch 1/15\n",
      "27/27 [==============================] - ETA: 0s - loss: -190.4119 - dice_coefficient: 1.7041 - accuracy: 0.5628\n",
      "Epoch 1: val_loss improved from inf to -73.01134, saving model to fcn_model.h5\n",
      "27/27 [==============================] - 107s 4s/step - loss: -190.4119 - dice_coefficient: 1.7041 - accuracy: 0.5628 - val_loss: -73.0113 - val_dice_coefficient: 1.1856 - val_accuracy: 0.7240 - lr: 0.0010\n",
      "Epoch 2/15\n",
      "27/27 [==============================] - ETA: 0s - loss: -279.3083 - dice_coefficient: 1.7414 - accuracy: 0.6525\n",
      "Epoch 2: val_loss did not improve from -73.01134\n",
      "27/27 [==============================] - 98s 4s/step - loss: -279.3083 - dice_coefficient: 1.7414 - accuracy: 0.6525 - val_loss: 222.0112 - val_dice_coefficient: 0.0290 - val_accuracy: 0.9110 - lr: 0.0010\n",
      "Epoch 3/15\n",
      "27/27 [==============================] - ETA: 0s - loss: -308.4946 - dice_coefficient: 1.8225 - accuracy: 0.6077\n",
      "Epoch 3: val_loss did not improve from -73.01134\n",
      "27/27 [==============================] - 106s 4s/step - loss: -308.4946 - dice_coefficient: 1.8225 - accuracy: 0.6077 - val_loss: 199.7650 - val_dice_coefficient: 0.0798 - val_accuracy: 0.9064 - lr: 0.0010\n",
      "Epoch 4/15\n",
      "27/27 [==============================] - ETA: 0s - loss: -323.6539 - dice_coefficient: 1.8529 - accuracy: 0.5891\n",
      "Epoch 4: val_loss did not improve from -73.01134\n",
      "27/27 [==============================] - 106s 4s/step - loss: -323.6539 - dice_coefficient: 1.8529 - accuracy: 0.5891 - val_loss: 267.2282 - val_dice_coefficient: 0.0035 - val_accuracy: 0.9140 - lr: 0.0010\n",
      "Epoch 5/15\n",
      "27/27 [==============================] - ETA: 0s - loss: -333.8371 - dice_coefficient: 1.8831 - accuracy: 0.5652\n",
      "Epoch 5: val_loss did not improve from -73.01134\n",
      "27/27 [==============================] - 98s 4s/step - loss: -333.8371 - dice_coefficient: 1.8831 - accuracy: 0.5652 - val_loss: 4.7020 - val_dice_coefficient: 0.9343 - val_accuracy: 0.8017 - lr: 0.0010\n",
      "Epoch 6/15\n",
      "27/27 [==============================] - ETA: 0s - loss: -341.6776 - dice_coefficient: 1.8946 - accuracy: 0.5491\n",
      "Epoch 6: val_loss did not improve from -73.01134\n",
      "27/27 [==============================] - 100s 4s/step - loss: -341.6776 - dice_coefficient: 1.8946 - accuracy: 0.5491 - val_loss: -4.8122 - val_dice_coefficient: 0.8854 - val_accuracy: 0.7970 - lr: 0.0010\n",
      "Epoch 7/15\n",
      "27/27 [==============================] - ETA: 0s - loss: -351.2365 - dice_coefficient: 1.9240 - accuracy: 0.5367\n",
      "Epoch 7: val_loss did not improve from -73.01134\n",
      "27/27 [==============================] - 98s 4s/step - loss: -351.2365 - dice_coefficient: 1.9240 - accuracy: 0.5367 - val_loss: 92.1644 - val_dice_coefficient: 0.3923 - val_accuracy: 0.8592 - lr: 2.0000e-04\n",
      "Epoch 8/15\n",
      "27/27 [==============================] - ETA: 0s - loss: -356.5090 - dice_coefficient: 1.9319 - accuracy: 0.5418\n",
      "Epoch 8: val_loss did not improve from -73.01134\n",
      "27/27 [==============================] - 95s 4s/step - loss: -356.5090 - dice_coefficient: 1.9319 - accuracy: 0.5418 - val_loss: 79.7133 - val_dice_coefficient: 0.3910 - val_accuracy: 0.8442 - lr: 2.0000e-04\n",
      "Epoch 9/15\n",
      "27/27 [==============================] - ETA: 0s - loss: -356.9295 - dice_coefficient: 1.9313 - accuracy: 0.5358\n",
      "Epoch 9: val_loss did not improve from -73.01134\n",
      "27/27 [==============================] - 97s 4s/step - loss: -356.9295 - dice_coefficient: 1.9313 - accuracy: 0.5358 - val_loss: 111.7421 - val_dice_coefficient: 0.3227 - val_accuracy: 0.8624 - lr: 2.0000e-04\n",
      "Epoch 10/15\n",
      "27/27 [==============================] - ETA: 0s - loss: -361.4684 - dice_coefficient: 1.9447 - accuracy: 0.5338\n",
      "Epoch 10: val_loss did not improve from -73.01134\n",
      "27/27 [==============================] - 96s 4s/step - loss: -361.4684 - dice_coefficient: 1.9447 - accuracy: 0.5338 - val_loss: 96.3960 - val_dice_coefficient: 0.3522 - val_accuracy: 0.8413 - lr: 2.0000e-04\n",
      "Epoch 11/15\n",
      "27/27 [==============================] - ETA: 0s - loss: -361.2293 - dice_coefficient: 1.9453 - accuracy: 0.5265\n",
      "Epoch 11: val_loss did not improve from -73.01134\n",
      "27/27 [==============================] - 96s 4s/step - loss: -361.2293 - dice_coefficient: 1.9453 - accuracy: 0.5265 - val_loss: 101.8664 - val_dice_coefficient: 0.3954 - val_accuracy: 0.8480 - lr: 2.0000e-04\n",
      "Epoch 12/15\n",
      "27/27 [==============================] - ETA: 0s - loss: -364.4276 - dice_coefficient: 1.9522 - accuracy: 0.5373\n",
      "Epoch 12: val_loss did not improve from -73.01134\n",
      "27/27 [==============================] - 97s 4s/step - loss: -364.4276 - dice_coefficient: 1.9522 - accuracy: 0.5373 - val_loss: 77.2723 - val_dice_coefficient: 0.4928 - val_accuracy: 0.8241 - lr: 4.0000e-05\n",
      "Epoch 13/15\n",
      "27/27 [==============================] - ETA: 0s - loss: -363.5430 - dice_coefficient: 1.9506 - accuracy: 0.5269\n",
      "Epoch 13: val_loss did not improve from -73.01134\n",
      "27/27 [==============================] - 97s 4s/step - loss: -363.5430 - dice_coefficient: 1.9506 - accuracy: 0.5269 - val_loss: 58.1718 - val_dice_coefficient: 0.5679 - val_accuracy: 0.7896 - lr: 4.0000e-05\n",
      "Epoch 14/15\n",
      "27/27 [==============================] - ETA: 0s - loss: -364.0401 - dice_coefficient: 1.9535 - accuracy: 0.5308\n",
      "Epoch 14: val_loss did not improve from -73.01134\n",
      "27/27 [==============================] - 99s 4s/step - loss: -364.0401 - dice_coefficient: 1.9535 - accuracy: 0.5308 - val_loss: 39.4166 - val_dice_coefficient: 0.6631 - val_accuracy: 0.7716 - lr: 4.0000e-05\n",
      "Epoch 15/15\n",
      "27/27 [==============================] - ETA: 0s - loss: -364.3676 - dice_coefficient: 1.9538 - accuracy: 0.5235\n",
      "Epoch 15: val_loss did not improve from -73.01134\n",
      "27/27 [==============================] - 100s 4s/step - loss: -364.3676 - dice_coefficient: 1.9538 - accuracy: 0.5235 - val_loss: -0.1449 - val_dice_coefficient: 0.8360 - val_accuracy: 0.7227 - lr: 4.0000e-05\n"
     ]
    }
   ],
   "source": [
    "# Train the model\n",
    "history = model.fit(x_train, y_train, epochs=15,batch_size=16,\n",
    "          validation_data=(x_valid, y_valid), callbacks=[reduce_lr,checkpoint])\n",
    "model.save('fcn_model.h5')"
   ]
  },
  {
   "cell_type": "code",
   "execution_count": 13,
   "id": "5d748913",
   "metadata": {},
   "outputs": [
    {
     "data": {
      "text/plain": [
       "<keras.src.engine.sequential.Sequential at 0x1f387abfa90>"
      ]
     },
     "execution_count": 13,
     "metadata": {},
     "output_type": "execute_result"
    }
   ],
   "source": [
    "model"
   ]
  },
  {
   "cell_type": "code",
   "execution_count": 14,
   "id": "e2ed889d",
   "metadata": {},
   "outputs": [
    {
     "data": {
      "image/png": "[encoded data removed]",
      "text/plain": [
       "<Figure size 640x480 with 1 Axes>"
      ]
     },
     "metadata": {},
     "output_type": "display_data"
    }
   ],
   "source": [
    "import matplotlib.pyplot as plt\n",
    "\n",
    "# Get training history\n",
    "accuracy = history.history['accuracy']\n",
    "val_accuracy = history.history['val_accuracy']\n",
    "\n",
    "# Plot accuracy\n",
    "plt.plot(accuracy, label='Training Accuracy')\n",
    "plt.plot(val_accuracy, label='Validation Accuracy')\n",
    "plt.title('Training and Validation Accuracy')\n",
    "plt.xlabel('Epochs')\n",
    "plt.ylabel('Accuracy')\n",
    "plt.legend()\n",
    "plt.show()\n"
   ]
  },
  {
   "cell_type": "code",
   "execution_count": null,
   "id": "d7917839",
   "metadata": {},
   "outputs": [],
   "source": []
  }
 ],
 "metadata": {
  "kaggle": {
   "accelerator": "gpu",
   "dataSources": [
    {
     "datasetId": 767686,
     "sourceId": 1327578,
     "sourceType": "datasetVersion"
    },
    {
     "datasetId": 769463,
     "sourceId": 1327590,
     "sourceType": "datasetVersion"
    }
   ],
   "dockerImageVersionId": 30627,
   "isGpuEnabled": true,
   "isInternetEnabled": true,
   "language": "python",
   "sourceType": "notebook"
  },
  "kernelspec": {
   "display_name": "Python 3 (ipykernel)",
   "language": "python",
   "name": "python3"
  },
  "language_info": {
   "codemirror_mode": {
    "name": "ipython",
    "version": 3
   },
   "file_extension": ".py",
   "mimetype": "text/x-python",
   "name": "python",
   "nbconvert_exporter": "python",
   "pygments_lexer": "ipython3",
   "version": "3.11.3"
  },
  "papermill": {
   "default_parameters": {},
   "duration": 1456.317029,
   "end_time": "2023-12-19T19:38:16.498158",
   "environment_variables": {},
   "exception": null,
   "input_path": "__notebook__.ipynb",
   "output_path": "__notebook__.ipynb",
   "parameters": {},
   "start_time": "2023-12-19T19:14:00.181129",
   "version": "2.4.0"
  },
  "widgets": {
   "application/vnd.jupyter.widget-state+json": {
    "state": {
     "2cc3dcc395e1490b91a27794af4eb365": {
      "model_module": "@jupyter-widgets/base",
      "model_module_version": "1.2.0",
      "model_name": "LayoutModel",
      "state": {
       "_model_module": "@jupyter-widgets/base",
       "_model_module_version": "1.2.0",
       "_model_name": "LayoutModel",
       "_view_count": null,
       "_view_module": "@jupyter-widgets/base",
       "_view_module_version": "1.2.0",
       "_view_name": "LayoutView",
       "align_content": null,
       "align_items": null,
       "align_self": null,
       "border": null,
       "bottom": null,
       "display": null,
       "flex": null,
       "flex_flow": null,
       "grid_area": null,
       "grid_auto_columns": null,
       "grid_auto_flow": null,
       "grid_auto_rows": null,
       "grid_column": null,
       "grid_gap": null,
       "grid_row": null,
       "grid_template_areas": null,
       "grid_template_columns": null,
       "grid_template_rows": null,
       "height": null,
       "justify_content": null,
       "justify_items": null,
       "left": null,
       "margin": null,
       "max_height": null,
       "max_width": null,
       "min_height": null,
       "min_width": null,
       "object_fit": null,
       "object_position": null,
       "order": null,
       "overflow": null,
       "overflow_x": null,
       "overflow_y": null,
       "padding": null,
       "right": null,
       "top": null,
       "visibility": null,
       "width": null
      }
     },
     "2e16b592d3bb498984fa81c6f7e45cf7": {
      "model_module": "@jupyter-widgets/controls",
      "model_module_version": "1.5.0",
      "model_name": "DescriptionStyleModel",
      "state": {
       "_model_module": "@jupyter-widgets/controls",
       "_model_module_version": "1.5.0",
       "_model_name": "DescriptionStyleModel",
       "_view_count": null,
       "_view_module": "@jupyter-widgets/base",
       "_view_module_version": "1.2.0",
       "_view_name": "StyleView",
       "description_width": ""
      }
     },
     "3bd46141f0d046dca65c59b0ef0ad669": {
      "model_module": "@jupyter-widgets/base",
      "model_module_version": "1.2.0",
      "model_name": "LayoutModel",
      "state": {
       "_model_module": "@jupyter-widgets/base",
       "_model_module_version": "1.2.0",
       "_model_name": "LayoutModel",
       "_view_count": null,
       "_view_module": "@jupyter-widgets/base",
       "_view_module_version": "1.2.0",
       "_view_name": "LayoutView",
       "align_content": null,
       "align_items": null,
       "align_self": null,
       "border": null,
       "bottom": null,
       "display": null,
       "flex": null,
       "flex_flow": null,
       "grid_area": null,
       "grid_auto_columns": null,
       "grid_auto_flow": null,
       "grid_auto_rows": null,
       "grid_column": null,
       "grid_gap": null,
       "grid_row": null,
       "grid_template_areas": null,
       "grid_template_columns": null,
       "grid_template_rows": null,
       "height": null,
       "justify_content": null,
       "justify_items": null,
       "left": null,
       "margin": null,
       "max_height": null,
       "max_width": null,
       "min_height": null,
       "min_width": null,
       "object_fit": null,
       "object_position": null,
       "order": null,
       "overflow": null,
       "overflow_x": null,
       "overflow_y": null,
       "padding": null,
       "right": null,
       "top": null,
       "visibility": null,
       "width": null
      }
     },
     "4688b0e6600b42aa8c13ff8543fd07db": {
      "model_module": "@jupyter-widgets/controls",
      "model_module_version": "1.5.0",
      "model_name": "HTMLModel",
      "state": {
       "_dom_classes": [],
       "_model_module": "@jupyter-widgets/controls",
       "_model_module_version": "1.5.0",
       "_model_name": "HTMLModel",
       "_view_count": null,
       "_view_module": "@jupyter-widgets/controls",
       "_view_module_version": "1.5.0",
       "_view_name": "HTMLView",
       "description": "",
       "description_tooltip": null,
       "layout": "IPY_MODEL_2cc3dcc395e1490b91a27794af4eb365",
       "placeholder": "​",
       "style": "IPY_MODEL_2e16b592d3bb498984fa81c6f7e45cf7",
       "value": " 65/65 [14:25&lt;00:00, 13.53s/it]"
      }
     },
     "778e29a12db54a4f9ce1de3d86acc0d6": {
      "model_module": "@jupyter-widgets/controls",
      "model_module_version": "1.5.0",
      "model_name": "HTMLModel",
      "state": {
       "_dom_classes": [],
       "_model_module": "@jupyter-widgets/controls",
       "_model_module_version": "1.5.0",
       "_model_name": "HTMLModel",
       "_view_count": null,
       "_view_module": "@jupyter-widgets/controls",
       "_view_module_version": "1.5.0",
       "_view_name": "HTMLView",
       "description": "",
       "description_tooltip": null,
       "layout": "IPY_MODEL_964e305d69cc4578b1dc095c4e356b48",
       "placeholder": "​",
       "style": "IPY_MODEL_d70f5055d15b45eba204adcc31b96187",
       "value": "100%"
      }
     },
     "964e305d69cc4578b1dc095c4e356b48": {
      "model_module": "@jupyter-widgets/base",
      "model_module_version": "1.2.0",
      "model_name": "LayoutModel",
      "state": {
       "_model_module": "@jupyter-widgets/base",
       "_model_module_version": "1.2.0",
       "_model_name": "LayoutModel",
       "_view_count": null,
       "_view_module": "@jupyter-widgets/base",
       "_view_module_version": "1.2.0",
       "_view_name": "LayoutView",
       "align_content": null,
       "align_items": null,
       "align_self": null,
       "border": null,
       "bottom": null,
       "display": null,
       "flex": null,
       "flex_flow": null,
       "grid_area": null,
       "grid_auto_columns": null,
       "grid_auto_flow": null,
       "grid_auto_rows": null,
       "grid_column": null,
       "grid_gap": null,
       "grid_row": null,
       "grid_template_areas": null,
       "grid_template_columns": null,
       "grid_template_rows": null,
       "height": null,
       "justify_content": null,
       "justify_items": null,
       "left": null,
       "margin": null,
       "max_height": null,
       "max_width": null,
       "min_height": null,
       "min_width": null,
       "object_fit": null,
       "object_position": null,
       "order": null,
       "overflow": null,
       "overflow_x": null,
       "overflow_y": null,
       "padding": null,
       "right": null,
       "top": null,
       "visibility": null,
       "width": null
      }
     },
     "a514f9cd0b7349dfa6e9c8d2e09388f8": {
      "model_module": "@jupyter-widgets/controls",
      "model_module_version": "1.5.0",
      "model_name": "ProgressStyleModel",
      "state": {
       "_model_module": "@jupyter-widgets/controls",
       "_model_module_version": "1.5.0",
       "_model_name": "ProgressStyleModel",
       "_view_count": null,
       "_view_module": "@jupyter-widgets/base",
       "_view_module_version": "1.2.0",
       "_view_name": "StyleView",
       "bar_color": null,
       "description_width": ""
      }
     },
     "c0c09ff19e1345189b39c7e64957c695": {
      "model_module": "@jupyter-widgets/base",
      "model_module_version": "1.2.0",
      "model_name": "LayoutModel",
      "state": {
       "_model_module": "@jupyter-widgets/base",
       "_model_module_version": "1.2.0",
       "_model_name": "LayoutModel",
       "_view_count": null,
       "_view_module": "@jupyter-widgets/base",
       "_view_module_version": "1.2.0",
       "_view_name": "LayoutView",
       "align_content": null,
       "align_items": null,
       "align_self": null,
       "border": null,
       "bottom": null,
       "display": null,
       "flex": null,
       "flex_flow": null,
       "grid_area": null,
       "grid_auto_columns": null,
       "grid_auto_flow": null,
       "grid_auto_rows": null,
       "grid_column": null,
       "grid_gap": null,
       "grid_row": null,
       "grid_template_areas": null,
       "grid_template_columns": null,
       "grid_template_rows": null,
       "height": null,
       "justify_content": null,
       "justify_items": null,
       "left": null,
       "margin": null,
       "max_height": null,
       "max_width": null,
       "min_height": null,
       "min_width": null,
       "object_fit": null,
       "object_position": null,
       "order": null,
       "overflow": null,
       "overflow_x": null,
       "overflow_y": null,
       "padding": null,
       "right": null,
       "top": null,
       "visibility": null,
       "width": null
      }
     },
     "d70f5055d15b45eba204adcc31b96187": {
      "model_module": "@jupyter-widgets/controls",
      "model_module_version": "1.5.0",
      "model_name": "DescriptionStyleModel",
      "state": {
       "_model_module": "@jupyter-widgets/controls",
       "_model_module_version": "1.5.0",
       "_model_name": "DescriptionStyleModel",
       "_view_count": null,
       "_view_module": "@jupyter-widgets/base",
       "_view_module_version": "1.2.0",
       "_view_name": "StyleView",
       "description_width": ""
      }
     },
     "e6a3f658641146e38e4b1655b171afa7": {
      "model_module": "@jupyter-widgets/controls",
      "model_module_version": "1.5.0",
      "model_name": "HBoxModel",
      "state": {
       "_dom_classes": [],
       "_model_module": "@jupyter-widgets/controls",
       "_model_module_version": "1.5.0",
       "_model_name": "HBoxModel",
       "_view_count": null,
       "_view_module": "@jupyter-widgets/controls",
       "_view_module_version": "1.5.0",
       "_view_name": "HBoxView",
       "box_style": "",
       "children": [
        "IPY_MODEL_778e29a12db54a4f9ce1de3d86acc0d6",
        "IPY_MODEL_f97891526a2f4606a3e6644de229504e",
        "IPY_MODEL_4688b0e6600b42aa8c13ff8543fd07db"
       ],
       "layout": "IPY_MODEL_3bd46141f0d046dca65c59b0ef0ad669"
      }
     },
     "f97891526a2f4606a3e6644de229504e": {
      "model_module": "@jupyter-widgets/controls",
      "model_module_version": "1.5.0",
      "model_name": "FloatProgressModel",
      "state": {
       "_dom_classes": [],
       "_model_module": "@jupyter-widgets/controls",
       "_model_module_version": "1.5.0",
       "_model_name": "FloatProgressModel",
       "_view_count": null,
       "_view_module": "@jupyter-widgets/controls",
       "_view_module_version": "1.5.0",
       "_view_name": "ProgressView",
       "bar_style": "success",
       "description": "",
       "description_tooltip": null,
       "layout": "IPY_MODEL_c0c09ff19e1345189b39c7e64957c695",
       "max": 65,
       "min": 0,
       "orientation": "horizontal",
       "style": "IPY_MODEL_a514f9cd0b7349dfa6e9c8d2e09388f8",
       "value": 65
      }
     }
    },
    "version_major": 2,
    "version_minor": 0
   }
  }
 },
 "nbformat": 4,
 "nbformat_minor": 5
}
